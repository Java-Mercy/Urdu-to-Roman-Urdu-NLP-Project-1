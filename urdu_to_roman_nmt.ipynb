{
  "cells": [
    {
      "cell_type": "markdown",
      "metadata": {},
      "source": [
        "# Neural Machine Translation: Urdu to Roman Urdu\n",
        "## BiLSTM Encoder-Decoder Architecture\n",
        "\n",
        "**Assignment**: Project1 - Neural Machine Translation (15 Abs)  \n",
        "**Objective**: Build a sequence-to-sequence model using BiLSTM encoder-decoder to translate Urdu text into Roman Urdu transliteration.\n",
        "\n",
        "**Architecture**:\n",
        "- Encoder: 2-layer Bidirectional LSTM\n",
        "- Decoder: 4-layer LSTM\n",
        "- Custom BPE Tokenization (implemented from scratch)\n",
        "\n",
        "**Dataset**: urdu_ghazals_rekhta - Classical Urdu poetry with Roman transliterations\n"
      ]
    },
    {
      "cell_type": "markdown",
      "metadata": {},
      "source": [
        "## 1. Setup and Dependencies\n"
      ]
    },
    {
      "cell_type": "code",
      "execution_count": null,
      "metadata": {},
      "outputs": [],
      "source": [
        "# Install required packages\n",
        "%pip install torch torchtext nltk sacrebleu editdistance streamlit\n",
        "%pip install matplotlib seaborn tqdm pandas numpy\n"
      ]
    },
    {
      "cell_type": "code",
      "execution_count": null,
      "metadata": {},
      "outputs": [],
      "source": [
        "import torch\n",
        "import torch.nn as nn\n",
        "import torch.optim as optim\n",
        "import torch.nn.functional as F\n",
        "from torch.utils.data import Dataset, DataLoader\n",
        "from torch.nn.utils.rnn import pad_sequence\n",
        "\n",
        "import numpy as np\n",
        "import pandas as pd\n",
        "import matplotlib.pyplot as plt\n",
        "import seaborn as sns\n",
        "from tqdm import tqdm\n",
        "import re\n",
        "import os\n",
        "import json\n",
        "import pickle\n",
        "from collections import Counter, defaultdict\n",
        "import random\n",
        "from typing import List, Tuple, Dict, Any\n",
        "import warnings\n",
        "warnings.filterwarnings('ignore')\n",
        "\n",
        "# Set device\n",
        "device = torch.device('cuda' if torch.cuda.is_available() else 'cpu')\n",
        "print(f\"Using device: {device}\")\n",
        "\n",
        "# Set random seeds for reproducibility\n",
        "torch.manual_seed(42)\n",
        "np.random.seed(42)\n",
        "random.seed(42)\n",
        "if torch.cuda.is_available():\n",
        "    torch.cuda.manual_seed(42)\n"
      ]
    },
    {
      "cell_type": "markdown",
      "metadata": {},
      "source": [
        "## 2. Clone Dataset and Download Required Files\n"
      ]
    },
    {
      "cell_type": "code",
      "execution_count": null,
      "metadata": {},
      "outputs": [],
      "source": [
        "# Clone the dataset repository\n",
        "!git clone https://github.com/amir9ume/urdu_ghazals_rekhta.git\n",
        "\n",
        "# Change to work with local dataset path\n",
        "import os\n",
        "if os.path.exists('/content/urdu_ghazals_rekhta/dataset'):\n",
        "    dataset_path = '/content/urdu_ghazals_rekhta/dataset'\n",
        "elif os.path.exists('urdu_ghazals_rekhta/dataset'):\n",
        "    dataset_path = 'urdu_ghazals_rekhta/dataset'\n",
        "else:\n",
        "    dataset_path = 'dataset/dataset'  # Local path\n",
        "\n",
        "print(f\"Dataset path: {dataset_path}\")\n",
        "print(\"Setup completed!\")\n"
      ]
    }
  ],
  "metadata": {
    "language_info": {
      "name": "python"
    }
  },
  "nbformat": 4,
  "nbformat_minor": 2
}
